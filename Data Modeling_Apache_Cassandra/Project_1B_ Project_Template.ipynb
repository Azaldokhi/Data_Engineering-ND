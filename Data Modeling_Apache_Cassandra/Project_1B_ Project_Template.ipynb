{
 "cells": [
  {
   "cell_type": "markdown",
   "metadata": {
    "editable": true
   },
   "source": [
    "# Part I. ETL Pipeline for Pre-Processing the Files"
   ]
  },
  {
   "cell_type": "markdown",
   "metadata": {
    "editable": true
   },
   "source": [
    "## PLEASE RUN THE FOLLOWING CODE FOR PRE-PROCESSING THE FILES"
   ]
  },
  {
   "cell_type": "markdown",
   "metadata": {
    "editable": true
   },
   "source": [
    "#### Import Python packages "
   ]
  },
  {
   "cell_type": "code",
   "execution_count": 1,
   "metadata": {
    "editable": true
   },
   "outputs": [],
   "source": [
    "# Import Python packages \n",
    "import pandas as pd\n",
    "import cassandra\n",
    "import re\n",
    "import os\n",
    "import glob\n",
    "import numpy as np\n",
    "import json\n",
    "import csv"
   ]
  },
  {
   "cell_type": "code",
   "execution_count": 2,
   "metadata": {
    "editable": true
   },
   "outputs": [
    {
     "name": "stdout",
     "output_type": "stream",
     "text": [
      "event_data/2018-11-01-events.csv  event_data/2018-11-16-events.csv\n",
      "event_data/2018-11-02-events.csv  event_data/2018-11-17-events.csv\n",
      "event_data/2018-11-03-events.csv  event_data/2018-11-18-events.csv\n",
      "event_data/2018-11-04-events.csv  event_data/2018-11-19-events.csv\n",
      "event_data/2018-11-05-events.csv  event_data/2018-11-20-events.csv\n",
      "event_data/2018-11-06-events.csv  event_data/2018-11-21-events.csv\n",
      "event_data/2018-11-07-events.csv  event_data/2018-11-22-events.csv\n",
      "event_data/2018-11-08-events.csv  event_data/2018-11-23-events.csv\n",
      "event_data/2018-11-09-events.csv  event_data/2018-11-24-events.csv\n",
      "event_data/2018-11-10-events.csv  event_data/2018-11-25-events.csv\n",
      "event_data/2018-11-11-events.csv  event_data/2018-11-26-events.csv\n",
      "event_data/2018-11-12-events.csv  event_data/2018-11-27-events.csv\n",
      "event_data/2018-11-13-events.csv  event_data/2018-11-28-events.csv\n",
      "event_data/2018-11-14-events.csv  event_data/2018-11-29-events.csv\n",
      "event_data/2018-11-15-events.csv  event_data/2018-11-30-events.csv\n"
     ]
    }
   ],
   "source": [
    "ls event_data/*"
   ]
  },
  {
   "cell_type": "markdown",
   "metadata": {
    "editable": true
   },
   "source": [
    "#### Creating list of filepaths to process original event csv data files"
   ]
  },
  {
   "cell_type": "code",
   "execution_count": 3,
   "metadata": {
    "editable": true
   },
   "outputs": [
    {
     "name": "stdout",
     "output_type": "stream",
     "text": [
      "/home/workspace\n"
     ]
    }
   ],
   "source": [
    "# checking your current working directory\n",
    "print(os.getcwd())\n",
    "\n",
    "# Get your current folder and subfolder event data\n",
    "filepath = os.getcwd() + '/event_data'\n",
    "\n",
    "# Create a for loop to create a list of files and collect each filepath\n",
    "for root, dirs, files in os.walk(filepath):\n",
    "    \n",
    "# join the file path and roots with the subdirectories using glob\n",
    "    file_path_list = glob.glob(os.path.join(root,'*'))\n",
    "    #print(file_path_list)"
   ]
  },
  {
   "cell_type": "markdown",
   "metadata": {
    "editable": true
   },
   "source": [
    "#### Processing the files to create the data file csv that will be used for Apache Casssandra tables"
   ]
  },
  {
   "cell_type": "code",
   "execution_count": 4,
   "metadata": {
    "editable": true
   },
   "outputs": [],
   "source": [
    "# initiating an empty list of rows that will be generated from each file\n",
    "full_data_rows_list = [] \n",
    "    \n",
    "# for every filepath in the file path list \n",
    "for f in file_path_list:\n",
    "\n",
    "# reading csv file \n",
    "    with open(f, 'r', encoding = 'utf8', newline='') as csvfile: \n",
    "        # creating a csv reader object \n",
    "        csvreader = csv.reader(csvfile) \n",
    "        next(csvreader)\n",
    "        \n",
    " # extracting each data row one by one and append it        \n",
    "        for line in csvreader:\n",
    "            #print(line)\n",
    "            full_data_rows_list.append(line) \n",
    "            \n",
    "# uncomment the code below if you would like to get total number of rows \n",
    "#print(len(full_data_rows_list))\n",
    "# uncomment the code below if you would like to check to see what the list of event data rows will look like\n",
    "#print(full_data_rows_list)\n",
    "\n",
    "# creating a smaller event data csv file called event_datafile_full csv that will be used to insert data into the \\\n",
    "# Apache Cassandra tables\n",
    "csv.register_dialect('myDialect', quoting=csv.QUOTE_ALL, skipinitialspace=True)\n",
    "\n",
    "with open('event_datafile_new.csv', 'w', encoding = 'utf8', newline='') as f:\n",
    "    writer = csv.writer(f, dialect='myDialect')\n",
    "    writer.writerow(['artist','firstName','gender','itemInSession','lastName','length',\\\n",
    "                'level','location','sessionId','song','userId'])\n",
    "    for row in full_data_rows_list:\n",
    "        if (row[0] == ''):\n",
    "            continue\n",
    "        writer.writerow((row[0], row[2], row[3], row[4], row[5], row[6], row[7], row[8], row[12], row[13], row[16]))"
   ]
  },
  {
   "cell_type": "code",
   "execution_count": 5,
   "metadata": {
    "editable": true
   },
   "outputs": [
    {
     "data": {
      "text/plain": [
       "['Jimi Hendrix',\n",
       " 'Logged In',\n",
       " 'Mohammad',\n",
       " 'M',\n",
       " '1',\n",
       " 'Rodriguez',\n",
       " '239.82975',\n",
       " 'paid',\n",
       " 'Sacramento--Roseville--Arden-Arcade, CA',\n",
       " 'PUT',\n",
       " 'NextSong',\n",
       " '1.54051E+12',\n",
       " '961',\n",
       " 'Woodstock Inprovisation',\n",
       " '200',\n",
       " '1.54328E+12',\n",
       " '88']"
      ]
     },
     "execution_count": 5,
     "metadata": {},
     "output_type": "execute_result"
    }
   ],
   "source": [
    "full_data_rows_list[1]"
   ]
  },
  {
   "cell_type": "code",
   "execution_count": 6,
   "metadata": {
    "editable": true
   },
   "outputs": [
    {
     "name": "stdout",
     "output_type": "stream",
     "text": [
      "6821\n"
     ]
    }
   ],
   "source": [
    "# check the number of rows in your csv file\n",
    "with open('event_datafile_new.csv', 'r', encoding = 'utf8') as f:\n",
    "    print(sum(1 for line in f))"
   ]
  },
  {
   "cell_type": "markdown",
   "metadata": {
    "editable": true
   },
   "source": [
    "# Part II. Complete the Apache Cassandra coding portion of your project. \n",
    "\n",
    "## Now you are ready to work with the CSV file titled <font color=red>event_datafile_new.csv</font>, located within the Workspace directory.  The event_datafile_new.csv contains the following columns: \n",
    "- artist \n",
    "- firstName of user\n",
    "- gender of user\n",
    "- item number in session\n",
    "- last name of user\n",
    "- length of the song\n",
    "- level (paid or free song)\n",
    "- location of the user\n",
    "- sessionId\n",
    "- song title\n",
    "- userId\n",
    "\n",
    "The image below is a screenshot of what the denormalized data should appear like in the <font color=red>**event_datafile_new.csv**</font> after the code above is run:<br>\n",
    "\n",
    "<img src=\"images/image_event_datafile_new.jpg\">"
   ]
  },
  {
   "cell_type": "markdown",
   "metadata": {
    "editable": true
   },
   "source": [
    "## Begin writing your Apache Cassandra code in the cells below"
   ]
  },
  {
   "cell_type": "markdown",
   "metadata": {
    "editable": true
   },
   "source": [
    "#### Creating a Cluster"
   ]
  },
  {
   "cell_type": "code",
   "execution_count": 7,
   "metadata": {
    "editable": true
   },
   "outputs": [
    {
     "name": "stdout",
     "output_type": "stream",
     "text": [
      "connection success \n"
     ]
    }
   ],
   "source": [
    "from cassandra.cluster import Cluster\n",
    "cluster = Cluster()\n",
    "\n",
    "session = cluster.connect()\n",
    "print(\"connection success \")"
   ]
  },
  {
   "cell_type": "markdown",
   "metadata": {
    "editable": true
   },
   "source": [
    "#### Create Keyspace"
   ]
  },
  {
   "cell_type": "code",
   "execution_count": 8,
   "metadata": {
    "editable": true
   },
   "outputs": [
    {
     "name": "stdout",
     "output_type": "stream",
     "text": [
      "Keyspace Created\n"
     ]
    }
   ],
   "source": [
    "try:\n",
    "        session.execute(\"\"\"\n",
    "        CREATE KEYSPACE IF NOT EXISTS udacity WITH REPLICATION = { 'class' : 'SimpleStrategy', 'replication_factor' : 1 }\"\"\")\n",
    "        print('Keyspace Created')\n",
    "except Exception as e:\n",
    "        print(e)"
   ]
  },
  {
   "cell_type": "markdown",
   "metadata": {
    "editable": true
   },
   "source": [
    "#### Set Keyspace"
   ]
  },
  {
   "cell_type": "code",
   "execution_count": 9,
   "metadata": {
    "editable": true
   },
   "outputs": [],
   "source": [
    "try:\n",
    "    session.set_keyspace('udacity')\n",
    "except Exception as e:\n",
    "    print(e)"
   ]
  },
  {
   "cell_type": "markdown",
   "metadata": {
    "editable": true
   },
   "source": [
    "### Now we need to create tables to run the following queries. Remember, with Apache Cassandra you model the database tables on the queries you want to run."
   ]
  },
  {
   "cell_type": "markdown",
   "metadata": {
    "editable": true
   },
   "source": [
    "## Create queries to ask the following three questions of the data\n",
    "\n",
    "### 1. Give me the artist, song title and song's length in the music app history that was heard during  sessionId = 338, and itemInSession  = 4\n",
    "\n",
    "\n",
    "### 2. Give me only the following: name of artist, song (sorted by itemInSession) and user (first and last name) for userid = 10, sessionid = 182\n",
    "    \n",
    "\n",
    "### 3. Give me every user name (first and last) in my music app history who listened to the song 'All Hands Against His Own'\n",
    "\n",
    "\n"
   ]
  },
  {
   "cell_type": "markdown",
   "metadata": {
    "editable": true
   },
   "source": [
    "### Drop & Create session table to retrive data for 1st Query "
   ]
  },
  {
   "cell_type": "code",
   "execution_count": 10,
   "metadata": {
    "editable": true
   },
   "outputs": [
    {
     "name": "stdout",
     "output_type": "stream",
     "text": [
      "Table Created\n"
     ]
    }
   ],
   "source": [
    "drop_query1 = \"DROP TABLE IF EXISTS songs_sessions\"\n",
    "\n",
    "try:\n",
    "    session.execute(drop_query1)\n",
    "except Exception as e:\n",
    "    print(e) \n",
    "\n",
    "\n",
    "create_query1 = \"\"\"\n",
    "create table if not exists songs_sessions (\n",
    "            session_id int,\n",
    "            item_in_session int,\n",
    "            artist text,\n",
    "            song text,\n",
    "            length float,\n",
    "            PRIMARY KEY (session_id, item_in_session)\n",
    "            )\"\"\"\n",
    "\n",
    "try:\n",
    "    session.execute(create_query1)\n",
    "    print(\"Table Created\")\n",
    "except Exception as e:\n",
    "    print(e)          "
   ]
  },
  {
   "cell_type": "markdown",
   "metadata": {
    "editable": true
   },
   "source": [
    "### Insert all data from the csv files into the songs_sessions table"
   ]
  },
  {
   "cell_type": "code",
   "execution_count": 11,
   "metadata": {
    "editable": true
   },
   "outputs": [
    {
     "name": "stdout",
     "output_type": "stream",
     "text": [
      "Chnuk rows of 0: 1000\n",
      "Chnuk memory usage: 0.516069 MB\n",
      "Chnuk rows of 1: 1000\n",
      "Chnuk memory usage: 0.5145959999999999 MB\n",
      "Chnuk rows of 2: 1000\n",
      "Chnuk memory usage: 0.51791 MB\n",
      "Chnuk rows of 3: 1000\n",
      "Chnuk memory usage: 0.5153829999999999 MB\n",
      "Chnuk rows of 4: 1000\n",
      "Chnuk memory usage: 0.515973 MB\n",
      "Chnuk rows of 5: 1000\n",
      "Chnuk memory usage: 0.515053 MB\n",
      "Chnuk rows of 6: 820\n",
      "Chnuk memory usage: 0.422612 MB\n"
     ]
    }
   ],
   "source": [
    "df_chunks = pd.read_csv('event_datafile_new.csv',chunksize=1000)\n",
    "\n",
    "insert_query1 = \"INSERT INTO songs_sessions (session_id, item_in_session , artist, song,length)\"\n",
    "insert_query1  = insert_query1 + \" VALUES (%s, %s, %s, %s, %s)\"\n",
    "\n",
    "for i,df_chunks in enumerate(df_chunks):\n",
    "    print(f'Chnuk rows of {i}: {len(df_chunks)}')\n",
    "    print(f'Chnuk memory usage: {df_chunks.memory_usage(deep=True).sum()*1e-6} MB')\n",
    "    for index, row in df_chunks.iterrows():\n",
    "        try:\n",
    "            session.execute(insert_query1,\n",
    "                            (row.sessionId,\n",
    "                             row.itemInSession,\n",
    "                             row.artist,\n",
    "                             row.song,\n",
    "                             row.length)\n",
    "                           )\n",
    "        \n",
    "        except Exception as e:\n",
    "            print(e)"
   ]
  },
  {
   "cell_type": "markdown",
   "metadata": {
    "editable": true
   },
   "source": [
    "#### Do a SELECT to verify that the data have been inserted into each table"
   ]
  },
  {
   "cell_type": "code",
   "execution_count": 12,
   "metadata": {
    "editable": true,
    "scrolled": true
   },
   "outputs": [
    {
     "name": "stdout",
     "output_type": "stream",
     "text": [
      "Row(artist='Faithless', song='Music Matters (Mark Knight Dub)', length=495.30731201171875)\n"
     ]
    }
   ],
   "source": [
    "select_query1 = \"\"\"\n",
    "SELECT \n",
    "    artist, song, length \n",
    "FROM \n",
    "    songs_sessions \n",
    "WHERE \n",
    "    session_id = 338 \n",
    "AND\n",
    "    item_in_session = 4\n",
    "\"\"\"\n",
    "try:\n",
    "    rows = session.execute(select_query1)\n",
    "except Exception as e:\n",
    "    print(e)\n",
    "    \n",
    "for row in rows:\n",
    "    print(row)"
   ]
  },
  {
   "cell_type": "markdown",
   "metadata": {
    "editable": true
   },
   "source": [
    "### COPY AND REPEAT THE ABOVE THREE CELLS FOR EACH OF THE THREE QUESTIONS"
   ]
  },
  {
   "cell_type": "markdown",
   "metadata": {
    "editable": true
   },
   "source": [
    "### Drop & Create session table to retrive data for 2nd Query"
   ]
  },
  {
   "cell_type": "code",
   "execution_count": 13,
   "metadata": {
    "editable": true
   },
   "outputs": [
    {
     "name": "stdout",
     "output_type": "stream",
     "text": [
      "Table Created\n"
     ]
    }
   ],
   "source": [
    "drop_query2 = \"DROP TABLE IF EXISTS users_sessions\"\n",
    "\n",
    "try:\n",
    "    session.execute(drop_query2)\n",
    "except Exception as e:\n",
    "    print(e) \n",
    "\n",
    "\n",
    "create_query2 = \"\"\"\n",
    "create table if not exists users_sessions (\n",
    "            session_id int,\n",
    "            user_id int,\n",
    "            artist text,\n",
    "            song text,\n",
    "            first_Name text,\n",
    "            last_Name text,\n",
    "            item_in_session int,\n",
    "            PRIMARY KEY ((user_id, session_id), item_in_session)\n",
    "            )\"\"\"\n",
    "\n",
    "try:\n",
    "    session.execute(create_query2)\n",
    "    print(\"Table Created\")\n",
    "except Exception as e:\n",
    "    print(e)   "
   ]
  },
  {
   "cell_type": "markdown",
   "metadata": {
    "editable": true
   },
   "source": [
    "### Read and insert data using Pandas Dataframe"
   ]
  },
  {
   "cell_type": "code",
   "execution_count": 14,
   "metadata": {
    "editable": true
   },
   "outputs": [
    {
     "name": "stdout",
     "output_type": "stream",
     "text": [
      "Chnuk rows of 0: 1000\n",
      "Chnuk memory usage: 0.516069 MB\n",
      "Chnuk rows of 1: 1000\n",
      "Chnuk memory usage: 0.5145959999999999 MB\n",
      "Chnuk rows of 2: 1000\n",
      "Chnuk memory usage: 0.51791 MB\n",
      "Chnuk rows of 3: 1000\n",
      "Chnuk memory usage: 0.5153829999999999 MB\n",
      "Chnuk rows of 4: 1000\n",
      "Chnuk memory usage: 0.515973 MB\n",
      "Chnuk rows of 5: 1000\n",
      "Chnuk memory usage: 0.515053 MB\n",
      "Chnuk rows of 6: 820\n",
      "Chnuk memory usage: 0.422612 MB\n"
     ]
    }
   ],
   "source": [
    "df_chunks2 = pd.read_csv('event_datafile_new.csv',chunksize=1000)\n",
    "\n",
    "insert_query2 = \"INSERT INTO users_sessions (artist,first_Name,item_in_session,last_Name,session_id,song,user_id)\"\n",
    "insert_query2  = insert_query2 + \" VALUES (%s, %s, %s, %s, %s, %s, %s)\"\n",
    "\n",
    "for i,df_chunks2 in enumerate(df_chunks2):\n",
    "    print(f'Chnuk rows of {i}: {len(df_chunks2)}')\n",
    "    print(f'Chnuk memory usage: {df_chunks2.memory_usage(deep=True).sum()*1e-6} MB')\n",
    "    for index, row in df_chunks2.iterrows():\n",
    "        try:\n",
    "            session.execute(insert_query2,\n",
    "                            (row.artist,\n",
    "                             row.firstName,\n",
    "                             row.itemInSession,\n",
    "                             row.lastName,\n",
    "                             row.sessionId,\n",
    "                             row.song,\n",
    "                             row.userId)\n",
    "                           )\n",
    "        except Exception as e:\n",
    "            print(e)"
   ]
  },
  {
   "cell_type": "code",
   "execution_count": 15,
   "metadata": {
    "editable": true
   },
   "outputs": [
    {
     "name": "stdout",
     "output_type": "stream",
     "text": [
      "Row(artist='Down To The Bone', song=\"Keep On Keepin' On\", first_name='Sylvie', last_name='Cruz')\n",
      "Row(artist='Three Drives', song='Greece 2000', first_name='Sylvie', last_name='Cruz')\n",
      "Row(artist='Sebastien Tellier', song='Kilometer', first_name='Sylvie', last_name='Cruz')\n",
      "Row(artist='Lonnie Gordon', song='Catch You Baby (Steve Pitron & Max Sanna Radio Edit)', first_name='Sylvie', last_name='Cruz')\n"
     ]
    }
   ],
   "source": [
    "select_query2 = \"\"\"\n",
    "SELECT \n",
    "    artist, song, first_Name, last_Name \n",
    "FROM \n",
    "    users_sessions \n",
    "WHERE \n",
    "    user_id = 10 \n",
    "AND\n",
    "    session_id = 182\n",
    "\"\"\"\n",
    "try:\n",
    "    rows = session.execute(select_query2)\n",
    "except Exception as e:\n",
    "    print(e)\n",
    "    \n",
    "for row in rows:\n",
    "    print(row)"
   ]
  },
  {
   "cell_type": "markdown",
   "metadata": {
    "editable": true
   },
   "source": [
    "### Drop & Create session table to retrive data for 3rd Query"
   ]
  },
  {
   "cell_type": "code",
   "execution_count": 16,
   "metadata": {
    "editable": true
   },
   "outputs": [
    {
     "name": "stdout",
     "output_type": "stream",
     "text": [
      "Table Created\n"
     ]
    }
   ],
   "source": [
    "drop_query3 = \"DROP TABLE IF EXISTS users_songs\"\n",
    "\n",
    "try:\n",
    "    session.execute(drop_query3)\n",
    "except Exception as e:\n",
    "    print(e) \n",
    "\n",
    "\n",
    "create_query3 = (\"\"\"\n",
    "create table if not exists users_songs (\n",
    "            song text,\n",
    "            user_Id int,\n",
    "            first_Name text,\n",
    "            last_Name text,\n",
    "            PRIMARY KEY(song, user_Id))\n",
    "            \"\"\")\n",
    "\n",
    "try:\n",
    "    session.execute(create_query3)\n",
    "    print(\"Table Created\")\n",
    "except Exception as e:\n",
    "    print(e)"
   ]
  },
  {
   "cell_type": "code",
   "execution_count": null,
   "metadata": {
    "editable": true
   },
   "outputs": [
    {
     "name": "stdout",
     "output_type": "stream",
     "text": [
      "Chnuk rows of 0: 1000\n",
      "Chnuk memory usage: 0.516069 MB\n",
      "Chnuk rows of 1: 1000\n",
      "Chnuk memory usage: 0.5145959999999999 MB\n",
      "Chnuk rows of 2: 1000\n",
      "Chnuk memory usage: 0.51791 MB\n",
      "Chnuk rows of 3: 1000\n",
      "Chnuk memory usage: 0.5153829999999999 MB\n",
      "Chnuk rows of 4: 1000\n",
      "Chnuk memory usage: 0.515973 MB\n",
      "Chnuk rows of 5: 1000\n",
      "Chnuk memory usage: 0.515053 MB\n",
      "Chnuk rows of 6: 820\n",
      "Chnuk memory usage: 0.422612 MB\n"
     ]
    }
   ],
   "source": [
    "df_chunks3 = pd.read_csv('event_datafile_new.csv',chunksize=1000)\n",
    "insert_query3 = \"INSERT INTO users_songs (song, user_Id, first_Name, last_Name)\"\n",
    "insert_query3  = insert_query3 + \" VALUES (%s, %s, %s, %s)\"\n",
    "\n",
    "for i,df_chunks3 in enumerate(df_chunks3):\n",
    "    print(f'Chnuk rows of {i}: {len(df_chunks3)}')\n",
    "    print(f'Chnuk memory usage: {df_chunks3.memory_usage(deep=True).sum()*1e-6} MB')\n",
    "    for index, row in df_chunks3.iterrows():\n",
    "        try:\n",
    "            session.execute(insert_query3,\n",
    "                            (row.song,\n",
    "                             row.userId,\n",
    "                             row.firstName,\n",
    "                             row.lastName)\n",
    "                           )\n",
    "        except Exception as e:\n",
    "            print(e)"
   ]
  },
  {
   "cell_type": "code",
   "execution_count": 57,
   "metadata": {
    "editable": true
   },
   "outputs": [
    {
     "name": "stdout",
     "output_type": "stream",
     "text": [
      "Row(song='All Hands Against His Own', first_name='Jacqueline', last_name='Lynch')\n",
      "Row(song='All Hands Against His Own', first_name='Tegan', last_name='Levine')\n",
      "Row(song='All Hands Against His Own', first_name='Sara', last_name='Johnson')\n"
     ]
    }
   ],
   "source": [
    "select_query3 = \"\"\"\n",
    "SELECT \n",
    "    song,\n",
    "    first_Name,\n",
    "    last_Name \n",
    "FROM \n",
    "    users_songs \n",
    "WHERE \n",
    "    song = 'All Hands Against His Own' \n",
    "\"\"\"\n",
    "try:\n",
    "    rows = session.execute(select_query3)\n",
    "except Exception as e:\n",
    "    print(e)\n",
    "    \n",
    "for row in rows:\n",
    "    print(row)"
   ]
  },
  {
   "cell_type": "markdown",
   "metadata": {
    "editable": true
   },
   "source": [
    "### Drop the tables before closing out the sessions"
   ]
  },
  {
   "cell_type": "code",
   "execution_count": 59,
   "metadata": {
    "editable": true
   },
   "outputs": [
    {
     "data": {
      "text/plain": [
       "<cassandra.cluster.ResultSet at 0x7fa9ac32e860>"
      ]
     },
     "execution_count": 59,
     "metadata": {},
     "output_type": "execute_result"
    }
   ],
   "source": [
    "session.execute(\"DROP TABLE IF EXISTS songs_sessions\")\n",
    "session.execute(\"DROP TABLE IF EXISTS users_sessions\")\n",
    "session.execute(\"DROP TABLE IF EXISTS users_songs\")"
   ]
  },
  {
   "cell_type": "markdown",
   "metadata": {
    "editable": true
   },
   "source": [
    "### Close the session and cluster connection¶"
   ]
  },
  {
   "cell_type": "code",
   "execution_count": 60,
   "metadata": {
    "editable": true
   },
   "outputs": [],
   "source": [
    "session.shutdown()\n",
    "cluster.shutdown()"
   ]
  },
  {
   "cell_type": "code",
   "execution_count": null,
   "metadata": {
    "editable": true
   },
   "outputs": [],
   "source": []
  },
  {
   "cell_type": "code",
   "execution_count": null,
   "metadata": {
    "editable": true
   },
   "outputs": [],
   "source": []
  }
 ],
 "metadata": {
  "kernelspec": {
   "display_name": "Python 3",
   "language": "python",
   "name": "python3"
  },
  "language_info": {
   "codemirror_mode": {
    "name": "ipython",
    "version": 3
   },
   "file_extension": ".py",
   "mimetype": "text/x-python",
   "name": "python",
   "nbconvert_exporter": "python",
   "pygments_lexer": "ipython3",
   "version": "3.6.3"
  }
 },
 "nbformat": 4,
 "nbformat_minor": 4
}
